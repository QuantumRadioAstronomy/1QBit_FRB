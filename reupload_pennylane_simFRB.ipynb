{
 "cells": [
  {
   "cell_type": "code",
   "execution_count": 1,
   "metadata": {
    "tags": []
   },
   "outputs": [],
   "source": [
    "# This cell is added by sphinx-gallery\n",
    "# It can be customized to whatever you like\n",
    "%matplotlib inline\n",
    "\n",
    "import pennylane as qml\n",
    "from pennylane import numpy as np\n",
    "from pennylane.optimize import AdamOptimizer, GradientDescentOptimizer\n",
    "from sklearn.metrics import f1_score\n",
    "import pandas as pd\n",
    "import scipy.stats as ss\n",
    "\n",
    "import matplotlib.pyplot as plt"
   ]
  },
  {
   "cell_type": "markdown",
   "metadata": {},
   "source": [
    "Data-reuploading classifier\n",
    "===========================\n",
    "\n",
    "*Author: Shahnawaz Ahmed (<shahnawaz.ahmed95@gmail.com>). Last updated:\n",
    "19 Jan 2021.*\n",
    "\n",
    "A single-qubit quantum circuit which can implement arbitrary unitary\n",
    "operations can be used as a universal classifier much like a single\n",
    "hidden-layered Neural Network. As surprising as it sounds,\n",
    "[Pérez-Salinas et al. (2019)](https://arxiv.org/abs/1907.02085) discuss\n",
    "this with their idea of 'data reuploading'. It is possible to load a\n",
    "single qubit with arbitrary dimensional data and then use it as a\n",
    "universal classifier.\n"
   ]
  },
  {
   "cell_type": "code",
   "execution_count": 2,
   "metadata": {
    "tags": []
   },
   "outputs": [],
   "source": [
    "# from dataset import read_dataset, divide_dataset, balance_dataset\n",
    "\n",
    "# # read the data\n",
    "# dataset = read_dataset()\n",
    "\n",
    "# # extract a balances subset containing a limited number of points\n",
    "# # npts = 180\n",
    "# # dataset = balance_dataset(dataset, npts)\n",
    "\n",
    "# # only consider a subset of the features\n",
    "# features = [0,1,2,3,4]\n",
    "# nfeatures = len(features)\n",
    "# dataset.features = dataset.features[:,features]\n",
    "\n",
    "# # normalize the data between 0 and 2pi\n",
    "# dataset.features -= dataset.features.min(0)\n",
    "# dataset.features /= dataset.features.max(0)\n",
    "# dataset.features *= 1\n",
    "\n",
    "# # make int labels \n",
    "# dataset.labels = np.array(dataset.labels.astype(int), requires_grad=False)\n",
    "\n",
    "# dataset.features = np.array(dataset.features, requires_grad=False)\n",
    "\n",
    "# # divide the dataset in train/test\n",
    "# train_dataset, test_dataset = divide_dataset(dataset, shuffle=False)\n",
    " \n",
    "# # label\n",
    "# label_0 = [[1], [0]]\n",
    "# label_1 = [[0], [1]]\n",
    "# state_labels = np.array([label_0, label_1], requires_grad=False)\n",
    "\n",
    "# # plot the data\n",
    "# plt.scatter(train_dataset.features[:,2],train_dataset.features[:,3],c=train_dataset.labels)\n",
    "# plt.scatter(test_dataset.features[:,2],test_dataset.features[:,3],c=test_dataset.labels)"
   ]
  },
  {
   "cell_type": "code",
   "execution_count": 3,
   "metadata": {
    "tags": []
   },
   "outputs": [
    {
     "name": "stdout",
     "output_type": "stream",
     "text": [
      "Keys: <KeysViewHDF5 ['data_dm_time', 'data_freq_time', 'labels', 'multibeam_snr', 'params', 'snr']>\n"
     ]
    }
   ],
   "source": [
    "import h5py\n",
    "\n",
    "filename = \"data_apertif.hdf5\"\n",
    "with h5py.File(filename, \"r\") as f:\n",
    "    # Print all root level object names (aka keys) \n",
    "    # these can be group or dataset names \n",
    "    print(\"Keys: %s\" % f.keys())\n",
    "    # get first object name/key; may or may NOT be a group\n",
    "    a_group_key = list(f.keys())[2]\n",
    "    labels = f[a_group_key][()]\n",
    "\n",
    "    a_group_key = list(f.keys())[1]\n",
    "    data = f[a_group_key][()] "
   ]
  },
  {
   "cell_type": "code",
   "execution_count": 4,
   "metadata": {
    "tags": []
   },
   "outputs": [
    {
     "name": "stdout",
     "output_type": "stream",
     "text": [
      "(1120, 32, 250) (1120,)\n"
     ]
    }
   ],
   "source": [
    "data_subset = data[0::60,:,:] \n",
    "labels_subset = labels[0::60]\n",
    "print (data_subset.shape, labels_subset.shape)"
   ]
  },
  {
   "cell_type": "code",
   "execution_count": 5,
   "metadata": {
    "tags": []
   },
   "outputs": [],
   "source": [
    "#Subtract median in the frequency channel\n",
    "data_wo_median = np.zeros(data_subset.shape)\n",
    "median = np.median(data_subset, axis=1)\n",
    "data_wo_median = data_subset - median[:, np.newaxis,:]\n",
    "\n",
    "#Divide by standard deviation\n",
    "stddev = np.std(data_subset, axis=1)\n",
    "data_norm = data_wo_median/stddev[:,np.newaxis,:]\n",
    "\n",
    "#Collapse along frequency\n",
    "data_collapsed = np.sum(data_norm, axis=1)"
   ]
  },
  {
   "cell_type": "code",
   "execution_count": 6,
   "metadata": {
    "tags": []
   },
   "outputs": [],
   "source": [
    "from scipy.stats import kurtosis, skew\n",
    "features = np.zeros([data_collapsed.shape[0], 4])\n",
    "features[:,0] = np.mean(data_collapsed, axis=1)\n",
    "features[:,1] = np.std(data_collapsed, axis=1)\n",
    "features[:,2] = kurtosis(data_collapsed, axis=1)\n",
    "features[:,3] = skew(data_collapsed, axis=1)\n",
    "\n",
    "nfeatures = features.shape[1]\n",
    "npts = features.shape[0]\n",
    "\n",
    "# normalize the data between 0 and 2pi\n",
    "features -= features.min(0)\n",
    "features /= features.max(0)\n",
    "features *= 1\n",
    "\n",
    "# make int labels\n",
    "labels_subset = np.array(labels_subset.astype(int), requires_grad=False)\n",
    "\n",
    "features = np.array(features, requires_grad=False)"
   ]
  },
  {
   "cell_type": "code",
   "execution_count": 23,
   "metadata": {
    "tags": []
   },
   "outputs": [
    {
     "data": {
      "text/plain": [
       "<matplotlib.collections.PathCollection at 0x7f83ebcf96d0>"
      ]
     },
     "execution_count": 23,
     "metadata": {},
     "output_type": "execute_result"
    },
    {
     "data": {
      "image/png": "[encoded data removed]",
      "text/plain": [
       "<Figure size 640x480 with 1 Axes>"
      ]
     },
     "metadata": {},
     "output_type": "display_data"
    }
   ],
   "source": [
    "from dataset import DataSet, divide_dataset\n",
    "\n",
    "dataset = DataSet(npts = npts, features= features[:,0:3], labels= labels_subset)\n",
    "\n",
    "# divide the dataset in train/test\n",
    "train_dataset, test_dataset = divide_dataset(dataset, shuffle=True)\n",
    "\n",
    "# label\n",
    "label_0 = [[1], [0]]\n",
    "label_1 = [[0], [1]]\n",
    "state_labels = np.array([label_0, label_1], requires_grad=False)\n",
    "\n",
    "# plot the data\n",
    "plt.scatter(train_dataset.features[:,2],train_dataset.features[:,2],c=train_dataset.labels,alpha=0.75,s=4)\n",
    "# plt.scatter(test_dataset.features[:,0],test_dataset.features[:,1],c=test_dataset.labels)"
   ]
  },
  {
   "cell_type": "code",
   "execution_count": 8,
   "metadata": {
    "tags": []
   },
   "outputs": [],
   "source": [
    "# #Oversample with smote\n",
    "# from imblearn.over_sampling import SMOTE, ADASYN\n",
    "# X_resampled, y_resampled = SMOTE().fit_resample(train_dataset.features, train_dataset.labels)\n",
    "# print (np.count_nonzero(train_dataset.labels),np.count_nonzero(y_resampled))\n",
    "# train_dataset.features = X_resampled\n",
    "# train_dataset.labels = y_resampled\n",
    "# train_dataset.npts = y_resampled.shape[0]\n",
    "\n",
    "# # make int labels \n",
    "# train_dataset.labels = np.array(train_dataset.labels.astype(int), requires_grad=False)\n",
    "\n",
    "# train_dataset.features = np.array(train_dataset.features, requires_grad=False)\n",
    "\n",
    "# fig, axes = plt.subplots(train_dataset.features.shape[1], train_dataset.features.shape[1], figsize=(10,10), sharex=True, sharey=True)\n",
    "# for i in range(train_dataset.features.shape[1]):\n",
    "#     for j in range(train_dataset.features.shape[1]):\n",
    "#         axes[i, j].scatter(train_dataset.features[:,i],train_dataset.features[:,j],c=train_dataset.labels,alpha=0.5,s=2)\n",
    "\n",
    "# fig.tight_layout()"
   ]
  },
  {
   "cell_type": "markdown",
   "metadata": {},
   "source": [
    "Simple classifier with data reloading and fidelity loss\n",
    "=======================================================\n"
   ]
  },
  {
   "cell_type": "code",
   "execution_count": 24,
   "metadata": {
    "tags": []
   },
   "outputs": [],
   "source": [
    "dev = qml.device(\"default.qubit\", wires=1)\n",
    "# Install any pennylane-plugin to run on some particular backend\n",
    "\n",
    "\n",
    "@qml.qnode(dev)\n",
    "def qcircuit(params, x, y):\n",
    "    \"\"\"A variational quantum circuit representing the Universal classifier.\n",
    "\n",
    "    Args:\n",
    "        params (array[float]): array of parameters\n",
    "        x (array[float]): single input vector\n",
    "        y (array[float]): single output state density matrix\n",
    "\n",
    "    Returns:\n",
    "        float: fidelity between output state and input\n",
    "    \"\"\"\n",
    "    \n",
    "    n_inp_bloc = -(len(x)//-3)\n",
    "    \n",
    "    for p in params:\n",
    "        for i in range(n_inp_bloc):\n",
    "            qml.Rot(*x[i*3:(i+1)*3], wires=0)\n",
    "        qml.Rot(*p, wires=0)\n",
    "    return qml.expval(qml.Hermitian(y, wires=[0]))\n",
    "\n",
    "\n",
    "def cost(params, x, y, state_labels=None):\n",
    "    \"\"\"Cost function to be minimized.\n",
    "\n",
    "    Args:\n",
    "        params (array[float]): array of parameters\n",
    "        x (array[float]): 2-d array of input vectors\n",
    "        y (array[float]): 1-d array of targets\n",
    "        state_labels (array[float]): array of state representations for labels\n",
    "\n",
    "    Returns:\n",
    "        float: loss value to be minimized\n",
    "    \"\"\"\n",
    "    # Compute prediction for each input in data batch\n",
    "    loss = 0.0\n",
    "    dm_labels = [density_matrix(s) for s in state_labels]\n",
    "    for i in range(len(x)):\n",
    "        f = qcircuit(params, x[i], dm_labels[y[i]])\n",
    "        loss = loss + (1 - f) ** 2\n",
    "    return loss / len(x)"
   ]
  },
  {
   "cell_type": "markdown",
   "metadata": {},
   "source": [
    "Utility functions for testing and creating batches\n",
    "==================================================\n"
   ]
  },
  {
   "cell_type": "code",
   "execution_count": 25,
   "metadata": {
    "tags": []
   },
   "outputs": [],
   "source": [
    "def test(params, x, y, state_labels=None):\n",
    "    \"\"\"\n",
    "    Tests on a given set of data.\n",
    "\n",
    "    Args:\n",
    "        params (array[float]): array of parameters\n",
    "        x (array[float]): 2-d array of input vectors\n",
    "        y (array[float]): 1-d array of targets\n",
    "        state_labels (array[float]): 1-d array of state representations for labels\n",
    "\n",
    "    Returns:\n",
    "        predicted (array([int]): predicted labels for test data\n",
    "        output_states (array[float]): output quantum states from the circuit\n",
    "    \"\"\"\n",
    "    fidelity_values = []\n",
    "    dm_labels = [density_matrix(s) for s in state_labels]\n",
    "    predicted = []\n",
    "\n",
    "    for i in range(len(x)):\n",
    "        fidel_function = lambda y: qcircuit(params, x[i], y)\n",
    "        fidelities = [fidel_function(dm) for dm in dm_labels]\n",
    "        best_fidel = np.argmax(fidelities)\n",
    "\n",
    "        predicted.append(best_fidel)\n",
    "        fidelity_values.append(fidelities)\n",
    "\n",
    "    return np.array(predicted), np.array(fidelity_values)\n",
    "\n",
    "\n",
    "def accuracy_score(y_true, y_pred):\n",
    "    \"\"\"Accuracy score.\n",
    "\n",
    "    Args:\n",
    "        y_true (array[float]): 1-d array of targets\n",
    "        y_predicted (array[float]): 1-d array of predictions\n",
    "        state_labels (array[float]): 1-d array of state representations for labels\n",
    "\n",
    "    Returns:\n",
    "        score (float): the fraction of correctly classified samples\n",
    "    \"\"\"\n",
    "    score = y_true == y_pred\n",
    "    fscore = f1_score(y_true, y_pred)\n",
    "    \n",
    "    return score.sum() / len(y_true), fscore\n",
    "\n",
    "\n",
    "def iterate_minibatches(inputs, targets, batch_size):\n",
    "    \"\"\"\n",
    "    A generator for batches of the input data\n",
    "\n",
    "    Args:\n",
    "        inputs (array[float]): input data\n",
    "        targets (array[float]): targets\n",
    "\n",
    "    Returns:\n",
    "        inputs (array[float]): one batch of input data of length `batch_size`\n",
    "        targets (array[float]): one batch of targets of length `batch_size`\n",
    "    \"\"\"\n",
    "    for start_idx in range(0, inputs.shape[0] - batch_size + 1, batch_size):\n",
    "        idxs = slice(start_idx, start_idx + batch_size)\n",
    "        yield inputs[idxs], targets[idxs]\n",
    "        \n",
    "# Define output labels as quantum state vectors\n",
    "def density_matrix(state):\n",
    "    \"\"\"Calculates the density matrix representation of a state.\n",
    "\n",
    "    Args:\n",
    "        state (array[complex]): array representing a quantum state vector\n",
    "\n",
    "    Returns:\n",
    "        dm: (array[complex]): array representing the density matrix\n",
    "    \"\"\"\n",
    "    return state * np.conj(state).T"
   ]
  },
  {
   "cell_type": "markdown",
   "metadata": {},
   "source": [
    "Train a quantum classifier on the circle dataset\n",
    "================================================\n"
   ]
  },
  {
   "cell_type": "code",
   "execution_count": 26,
   "metadata": {
    "tags": []
   },
   "outputs": [],
   "source": [
    "def pad_data(data):\n",
    "    if data.shape[1]%3 != 0:\n",
    "        nadd = 3-data.shape[1]%3\n",
    "        data = np.hstack((data, np.zeros((data.shape[0], nadd), requires_grad=False)))\n",
    "    return data"
   ]
  },
  {
   "cell_type": "code",
   "execution_count": 42,
   "metadata": {
    "tags": []
   },
   "outputs": [],
   "source": [
    "# Generate training and test data)\n",
    "X_train = pad_data(train_dataset.features)\n",
    "y_train = train_dataset.labels\n",
    "\n",
    "\n",
    "X_test = pad_data(test_dataset.features)\n",
    "y_test = test_dataset.labels\n",
    "\n",
    "# Train using Adam optimizer and evaluate the classifier\n",
    "num_layers = 3\n",
    "learning_rate = 0.1\n",
    "epochs = 10\n",
    "batch_size = 32\n",
    "\n",
    "opt = AdamOptimizer(learning_rate, beta1=0.9, beta2=0.999)\n",
    "\n",
    "# initialize random weights\n",
    "params = np.random.uniform(size=(num_layers, 3), requires_grad=True)\n",
    "\n",
    "# print(qml.draw(qcircuit)(params, X_train[1,:], y_train[0]))\n",
    "\n"
   ]
  },
  {
   "cell_type": "code",
   "execution_count": 58,
   "metadata": {
    "tags": []
   },
   "outputs": [
    {
     "name": "stdout",
     "output_type": "stream",
     "text": [
      "Epoch:  0 | Cost: 0.449670 | Train accuracy: 0.494420 | Train F1: 0.000000 | Test Accuracy: 0.522321 | Test F1: 0.000000\n",
      "Epoch:  1 | Cost: 0.247799 | Train accuracy: 0.520089 | Train F1: 0.678144 | Test Accuracy: 0.491071 | Test F1: 0.652439\n",
      "Epoch:  2 | Cost: 0.237827 | Train accuracy: 0.512277 | Train F1: 0.298555 | Test Accuracy: 0.517857 | Test F1: 0.250000\n",
      "Epoch:  3 | Cost: 0.232708 | Train accuracy: 0.540179 | Train F1: 0.326797 | Test Accuracy: 0.593750 | Test F1: 0.325926\n",
      "Epoch:  4 | Cost: 0.231257 | Train accuracy: 0.554688 | Train F1: 0.377535 | Test Accuracy: 0.598214 | Test F1: 0.366197\n",
      "Epoch:  5 | Cost: 0.231041 | Train accuracy: 0.556920 | Train F1: 0.388290 | Test Accuracy: 0.598214 | Test F1: 0.375000\n",
      "Epoch:  6 | Cost: 0.230924 | Train accuracy: 0.560268 | Train F1: 0.390093 | Test Accuracy: 0.593750 | Test F1: 0.363636\n",
      "Epoch:  7 | Cost: 0.231183 | Train accuracy: 0.560268 | Train F1: 0.374603 | Test Accuracy: 0.593750 | Test F1: 0.354610\n",
      "Epoch:  8 | Cost: 0.231689 | Train accuracy: 0.561384 | Train F1: 0.356792 | Test Accuracy: 0.593750 | Test F1: 0.335766\n",
      "Epoch:  9 | Cost: 0.231788 | Train accuracy: 0.564732 | Train F1: 0.356436 | Test Accuracy: 0.602679 | Test F1: 0.330827\n",
      "Epoch: 10 | Cost: 0.231332 | Train accuracy: 0.562500 | Train F1: 0.359477 | Test Accuracy: 0.593750 | Test F1: 0.335766\n"
     ]
    }
   ],
   "source": [
    "# Train using Adam optimizer and evaluate the classifier\n",
    "num_layers = 4\n",
    "learning_rate = 0.05\n",
    "epochs = 10\n",
    "batch_size = 64\n",
    "\n",
    "opt = AdamOptimizer(learning_rate, beta1=0.9, beta2=0.999)\n",
    "\n",
    "# initialize random weights\n",
    "params = np.random.uniform(size=(num_layers, 3), requires_grad=True)\n",
    "\n",
    "predicted_train, fidel_train = test(params, X_train, y_train, state_labels)\n",
    "accuracy_train, f1_train = accuracy_score(y_train, predicted_train)\n",
    "\n",
    "predicted_test, fidel_test = test(params, X_test, y_test, state_labels)\n",
    "accuracy_test, f1_test = accuracy_score(y_test, predicted_test)\n",
    "\n",
    "# save predictions with random weights for comparison\n",
    "initial_predictions = predicted_test\n",
    "\n",
    "loss = cost(params, X_test, y_test, state_labels)\n",
    "\n",
    "print(\n",
    "    \"Epoch: {:2d} | Cost: {:3f} | Train accuracy: {:3f} | Train F1: {:3f} | Test Accuracy: {:3f} | Test F1: {:3f}\".format(\n",
    "        0, loss, accuracy_train, f1_train, accuracy_test, f1_test\n",
    "    )\n",
    ")\n",
    "\n",
    "for it in range(epochs):\n",
    "    for Xbatch, ybatch in iterate_minibatches(X_train, y_train, batch_size=batch_size):\n",
    "        params, _, _, _ = opt.step(cost, params, Xbatch, ybatch, state_labels)\n",
    "\n",
    "    predicted_train, fidel_train = test(params, X_train, y_train, state_labels)\n",
    "    accuracy_train, f1_train = accuracy_score(y_train, predicted_train)\n",
    "    loss = cost(params, X_train, y_train, state_labels)\n",
    "\n",
    "    predicted_test, fidel_test = test(params, X_test, y_test, state_labels)\n",
    "    accuracy_test, f1_test = accuracy_score(y_test, predicted_test)\n",
    "    res = [it + 1, loss, accuracy_train, f1_train, accuracy_test, f1_test]\n",
    "    print(\n",
    "        \"Epoch: {:2d} | Cost: {:3f} | Train accuracy: {:3f} | Train F1: {:3f} | Test Accuracy: {:3f} | Test F1: {:3f}\".format(\n",
    "            *res\n",
    "        )\n",
    "    )"
   ]
  },
  {
   "cell_type": "markdown",
   "metadata": {},
   "source": [
    "Results\n",
    "=======\n"
   ]
  },
  {
   "cell_type": "code",
   "execution_count": 59,
   "metadata": {
    "tags": []
   },
   "outputs": [
    {
     "name": "stdout",
     "output_type": "stream",
     "text": [
      "Epoch:  0 | Cost: 0.231332 | Train accuracy: 0.562500 | Train F1: 0.359477 | Test Accuracy: 0.593750 | Test F1: 0.335766\n",
      "Learned weights\n",
      "Layer 0: [ 1.36389179 -0.4713124   1.53222266]\n",
      "Layer 1: [1.39005003 0.64275121 0.56122447]\n",
      "Layer 2: [-0.10941794  0.95097019  0.29033857]\n",
      "Layer 3: [-0.32924712  0.22833935  0.53782941]\n"
     ]
    },
    {
     "data": {
      "image/png": "[encoded data removed]",
      "text/plain": [
       "<Figure size 1000x300 with 3 Axes>"
      ]
     },
     "metadata": {},
     "output_type": "display_data"
    }
   ],
   "source": [
    "print(\n",
    "    \"Epoch: {:2d} | Cost: {:3f} | Train accuracy: {:3f} | Train F1: {:3f} | Test Accuracy: {:3f} | Test F1: {:3f}\".format(\n",
    "        0, loss, accuracy_train, f1_train, accuracy_test, f1_test\n",
    "    )\n",
    ")\n",
    "\n",
    "print(\"Learned weights\")\n",
    "for i in range(num_layers):\n",
    "    print(\"Layer {}: {}\".format(i, params[i]))\n",
    "\n",
    "    \n",
    "def plot_data(x, y, fig=None, ax=None):\n",
    "    \"\"\"\n",
    "    Plot data with red/blue values for a binary classification.\n",
    "\n",
    "    Args:\n",
    "        x (array[tuple]): array of data points as tuples\n",
    "        y (array[int]): array of data points as tuples\n",
    "    \"\"\"\n",
    "    if fig == None:\n",
    "        fig, ax = plt.subplots(1, 1, figsize=(5, 5))\n",
    "    reds = y == 0\n",
    "    blues = y == 1\n",
    "    ax.scatter(x[reds, 0], x[reds, 2], c=\"red\", s=20, edgecolor=\"k\")\n",
    "    ax.scatter(x[blues, 0], x[blues, 2], c=\"blue\", s=20, edgecolor=\"k\")\n",
    "    ax.set_xlabel(\"$x_1$\")\n",
    "    ax.set_ylabel(\"$x_2$\")\n",
    "    \n",
    "\n",
    "fig, axes = plt.subplots(1, 3, figsize=(10, 3))\n",
    "plot_data(X_test, initial_predictions, fig, axes[0])\n",
    "plot_data(X_test, predicted_test, fig, axes[1])\n",
    "plot_data(X_test, y_test, fig, axes[2])\n",
    "axes[0].set_title(\"Predictions with random weights\")\n",
    "axes[1].set_title(\"Predictions after training\")\n",
    "axes[2].set_title(\"True test data\")\n",
    "plt.tight_layout()\n",
    "plt.show()"
   ]
  },
  {
   "cell_type": "markdown",
   "metadata": {},
   "source": [
    "References\n",
    "==========\n",
    "\n",
    "\\[1\\] Pérez-Salinas, Adrián, et al. \"Data re-uploading for a universal\n",
    "quantum classifier.\" arXiv preprint arXiv:1907.02085 (2019).\n",
    "\n",
    "\\[2\\] Kingma, Diederik P., and Ba, J. \"Adam: A method for stochastic\n",
    "optimization.\" arXiv preprint arXiv:1412.6980 (2014).\n",
    "\n",
    "\\[3\\] Liu, Dong C., and Nocedal, J. \"On the limited memory BFGS method\n",
    "for large scale optimization.\" Mathematical programming 45.1-3 (1989):\n",
    "503-528.\n"
   ]
  }
 ],
 "metadata": {
  "kernelspec": {
   "display_name": "Python 3 (ipykernel)",
   "language": "python",
   "name": "python3"
  },
  "language_info": {
   "codemirror_mode": {
    "name": "ipython",
    "version": 3
   },
   "file_extension": ".py",
   "mimetype": "text/x-python",
   "name": "python",
   "nbconvert_exporter": "python",
   "pygments_lexer": "ipython3",
   "version": "3.11.3"
  },
  "vscode": {
   "interpreter": {
    "hash": "44e81975ad27ace4448022d781b67ee52a8bd61f388ebfeba9536906f6e0da18"
   }
  }
 },
 "nbformat": 4,
 "nbformat_minor": 4
}
